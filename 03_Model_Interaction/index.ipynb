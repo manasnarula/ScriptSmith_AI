{
 "cells": [
  {
   "cell_type": "markdown",
   "id": "8029eda2-4ece-48a8-8071-c5aaf7def4df",
   "metadata": {},
   "source": [
    "There was a lot of information in the data section. In order to input it into the LLM below, I had to create a shorter input that acts as an overarching account of all the data and information that was collected. Obviously, this will exclude a good deal of the nuances that were included in the data in full. So to compare, I will return to the GPT-4 conversation in which all the data was collected so that the memory is updated, and mirror the tasks that I ask here. First we will create the first scene of *updated* Season 5. For the example response, I asked GPT-4 to create one that could be from the actual season 5, to further have a data point as to how they compare:"
   ]
  },
  {
   "cell_type": "code",
   "execution_count": 2,
   "id": "7a3c4a41-28a4-46f6-9d66-cccf111088da",
   "metadata": {},
   "outputs": [],
   "source": [
    "from langchain_core.prompts.chat import ChatPromptTemplate\n",
    "from langchain_core.runnables import (\n",
    "                                        RunnablePassthrough,\n",
    "                                        RunnableLambda,\n",
    "                                        RunnableParallel\n",
    ")\n",
    "\n",
    "from langchain_openai.chat_models import ChatOpenAI\n",
    "from langchain_core.output_parsers import StrOutputParser\n",
    "\n",
    "\n",
    "from operator import itemgetter\n",
    "\n",
    "from dotenv import load_dotenv\n",
    "import os"
   ]
  },
  {
   "cell_type": "code",
   "execution_count": 3,
   "id": "075bb32a-408f-4964-aadc-43d4c9145396",
   "metadata": {},
   "outputs": [],
   "source": [
    "_ = load_dotenv()"
   ]
  },
  {
   "cell_type": "markdown",
   "id": "a46a32cf-5ea0-482c-bd15-5858abb615de",
   "metadata": {},
   "source": [
    "### 1. Story creation prompt template"
   ]
  },
  {
   "cell_type": "code",
   "execution_count": 15,
   "id": "ec705edb-0b48-4ed4-acdc-cbf866086729",
   "metadata": {},
   "outputs": [],
   "source": [
    "character_generation_prompt = ChatPromptTemplate.from_template(\n",
    "    \"\"\"I want you to decide characters that will be in the first scene of the next season of \"Succession\". Based on the following analysis of 'Succession,' write the opening scene for the next season.\n",
    "    \"Succession\" intricately weaves the personal and professional lives of the Roy family, whose patriarch, Logan Roy, heads the global media conglomerate Waystar Royco. The show meticulously explores themes of power, legacy, and familial loyalty through its complex characters and their relationships.\n",
    "\n",
    "    Character Development: Each main character exhibits a deep, personal journey influenced by their aspirations and the heavy shadow cast by Logan. Kendall starts as a hopeful successor but faces numerous personal and professional setbacks. Shiv navigates her political ambitions and complex familial ties, often leveraging her outsider status within the family for personal gain. Roman, initially portrayed as the least serious of the siblings, shows significant growth in his understanding of the business, though he retains his unpredictable nature.\n",
    "\n",
    "    Relationship Dynamics: At the core of the series are the tumultuous relationships among the Roy family members. Logan’s manipulative tendencies often pit his children against one another, testing their loyalty and ambition. Kendall, Shiv, and Roman share a competitive yet occasionally collaborative relationship, reflective of their upbringing under Logan's overbearing scrutiny. Shiv's marriage to Tom Wambsgans highlights a dynamic of strategic alliance and emotional complexity, often mirroring the larger corporate battles within Waystar Royco. Meanwhile, Roman's unique bond with Gerri showcases a mix of mentorship and personal connection, adding layers to his corporate maneuvering.\n",
    "\n",
    "    Corporate and Personal Conflicts: The show also focuses on external pressures, such as corporate takeovers and public scandals, that challenge the Roy family's unity and control over their company. These elements are intertwined with personal stories, such as Kendall's struggles with addiction and the impact of his actions on his family and career.\n",
    "\n",
    "    To effectively write a new season of \"Succession,\" it would be crucial to continue exploring these rich character arcs and dynamics, while introducing new challenges that could potentially shift power within the family. A possible storyline could involve an external threat that forces the siblings to temporarily align, testing their individual loyalties and ambitions in new ways. Additionally, further exploring the implications of Logan's decisions on his children’s futures and the stability of Waystar Royco could provide compelling material, especially as they navigate the repercussions of past actions on both personal and professional fronts.\n",
    "\n",
    "    You must decide the characters that will be in the first scene. Each character must have a Name and a Biography, which reflects their role in this specific point in the storyline and their relationships with other main characters at the current moment. \n",
    "---\n",
    "Example response:\n",
    "Name: CharExec, Biography: A new executive who challenges the existing power dynamics at Waystar Royco.\n",
    "Name: CharRival, Biography: A rival media mogul who plans to take over Waystar through strategic alliances.\n",
    "---\n",
    "Characters: \"\"\"\n",
    ")\n",
    "\n",
    "plot_generation_prompt = ChatPromptTemplate.from_template(\n",
    "    \"\"\"Given the following characters and the genre, create an effective plot and setting for the first scene of the next season of \"Succession\":\n",
    "Characters:\n",
    "- Logan Roy: The aging patriarch struggling to maintain control of his empire.\n",
    "- Kendall Roy: Now an ally to his father, seeking redemption and power within the company.\n",
    "- Shiv Roy: Exploring her political aspirations while keeping ties with Waystar.\n",
    "- Roman Roy: Continues to handle international business deals, adding complexity to his character.\n",
    "- CharExec and CharRival from the character brainstorm.\n",
    "---\n",
    "Genre: corporate drama\n",
    "---\n",
    "Plot: \"\"\"\n",
    "    )\n",
    "\n",
    "scene_generation_plot_prompt = ChatPromptTemplate.from_template(\n",
    "    \"\"\"Act as an effective content creator.\n",
    "Given multiple characters and a plot, you are responsible for generating the first scene of the next season of \"Succession\".\n",
    "\n",
    "You must decompose the scene into effective dialogue and descriptions of the settings and actions:\n",
    "---\n",
    "Characters:\n",
    "{characters}\n",
    "---\n",
    "Genre: corporate drama\n",
    "---\n",
    "Plot: [Detailed plot goes here based on the plot generation prompt]\n",
    "---\n",
    "Example response:\n",
    "Scenes:\n",
    "Scene 1: Logan Roy holds a secretive meeting with CharRival, discussing a potential merger.\n",
    "Scene 2: Kendall and Shiv clash over the new strategic direction proposed by CharExec.\n",
    "Scene 3: Roman negotiates a critical deal overseas, testing his loyalty and business acumen.\n",
    "----\n",
    "Scenes:\n",
    "    \"\"\"\n",
    ")"
   ]
  },
  {
   "cell_type": "code",
   "execution_count": 16,
   "id": "1520a890-546d-4254-94ce-3a6df1251689",
   "metadata": {},
   "outputs": [
    {
     "name": "stdout",
     "output_type": "stream",
     "text": [
      "I want you to decide characters that will be in the first scene of the next season of \"Succession\". Based on the following analysis of 'Succession,' write the opening scene for the next season.\n",
      "    \"Succession\" intricately weaves the personal and professional lives of the Roy family, whose patriarch, Logan Roy, heads the global media conglomerate Waystar Royco. The show meticulously explores themes of power, legacy, and familial loyalty through its complex characters and their relationships.\n",
      "\n",
      "    Character Development: Each main character exhibits a deep, personal journey influenced by their aspirations and the heavy shadow cast by Logan. Kendall starts as a hopeful successor but faces numerous personal and professional setbacks. Shiv navigates her political ambitions and complex familial ties, often leveraging her outsider status within the family for personal gain. Roman, initially portrayed as the least serious of the siblings, shows significant growth in his understanding of the business, though he retains his unpredictable nature.\n",
      "\n",
      "    Relationship Dynamics: At the core of the series are the tumultuous relationships among the Roy family members. Logan’s manipulative tendencies often pit his children against one another, testing their loyalty and ambition. Kendall, Shiv, and Roman share a competitive yet occasionally collaborative relationship, reflective of their upbringing under Logan's overbearing scrutiny. Shiv's marriage to Tom Wambsgans highlights a dynamic of strategic alliance and emotional complexity, often mirroring the larger corporate battles within Waystar Royco. Meanwhile, Roman's unique bond with Gerri showcases a mix of mentorship and personal connection, adding layers to his corporate maneuvering.\n",
      "\n",
      "    Corporate and Personal Conflicts: The show also focuses on external pressures, such as corporate takeovers and public scandals, that challenge the Roy family's unity and control over their company. These elements are intertwined with personal stories, such as Kendall's struggles with addiction and the impact of his actions on his family and career.\n",
      "\n",
      "    To effectively write a new season of \"Succession,\" it would be crucial to continue exploring these rich character arcs and dynamics, while introducing new challenges that could potentially shift power within the family. A possible storyline could involve an external threat that forces the siblings to temporarily align, testing their individual loyalties and ambitions in new ways. Additionally, further exploring the implications of Logan's decisions on his children’s futures and the stability of Waystar Royco could provide compelling material, especially as they navigate the repercussions of past actions on both personal and professional fronts.\n",
      "\n",
      "    You must decide the characters that will be in the first scene. Each character must have a Name and a Biography, which reflects their role in this specific point in the storyline and their relationships with other main characters at the current moment. \n",
      "---\n",
      "Example response:\n",
      "Name: CharExec, Biography: A new executive who challenges the existing power dynamics at Waystar Royco.\n",
      "Name: CharRival, Biography: A rival media mogul who plans to take over Waystar through strategic alliances.\n",
      "---\n",
      "Characters: \n"
     ]
    }
   ],
   "source": [
    "print(character_generation_prompt.invoke({'genre': 'corporate drama'}).messages[0].content)"
   ]
  },
  {
   "cell_type": "code",
   "execution_count": 17,
   "id": "e17a56a5-4705-4bab-ac3f-9c959b6b0512",
   "metadata": {},
   "outputs": [
    {
     "data": {
      "text/plain": [
       "{'genre': 'corporate drama'}"
      ]
     },
     "execution_count": 17,
     "metadata": {},
     "output_type": "execute_result"
    }
   ],
   "source": [
    "chain = RunnablePassthrough() | {\n",
    "    \"genre\": itemgetter(\"genre\"),\n",
    "  }\n",
    "\n",
    "chain.invoke({\"genre\": \"corporate drama\"})"
   ]
  },
  {
   "cell_type": "code",
   "execution_count": 18,
   "id": "5814930d-cc80-4526-ae6f-b39e03e37c55",
   "metadata": {},
   "outputs": [],
   "source": [
    "master_chain = RunnablePassthrough() | {\n",
    "    \"genre\": itemgetter(\"genre\"),\n",
    "    \"upper_case_genre\": lambda x: x[\"genre\"].upper(),\n",
    "    \"lower_case_genre\": RunnableLambda(lambda x: x[\"genre\"].lower()),\n",
    "}"
   ]
  },
  {
   "cell_type": "code",
   "execution_count": 34,
   "id": "f575676b-c935-42cc-acb4-7bc1af6f41a3",
   "metadata": {},
   "outputs": [],
   "source": [
    "model = ChatOpenAI()\n",
    "\n",
    "character_generation_chain = ( character_generation_prompt\n",
    "| model\n",
    "| StrOutputParser() )\n",
    "\n",
    "plot_generation_chain = ( plot_generation_prompt\n",
    "| model\n",
    "| StrOutputParser() )\n",
    "\n",
    "scene_generation_plot_chain = ( scene_generation_plot_prompt\n",
    "| model\n",
    "| StrOutputParser()  )"
   ]
  },
  {
   "cell_type": "code",
   "execution_count": 45,
   "id": "15957e93-c6c2-43f8-8c1f-2f4aaec0c96d",
   "metadata": {},
   "outputs": [],
   "source": [
    "characters = character_generation_chain.invoke({'genre': 'corporate drama'})"
   ]
  },
  {
   "cell_type": "code",
   "execution_count": 46,
   "id": "78512507-12b7-4571-aee2-022aa429b39a",
   "metadata": {},
   "outputs": [
    {
     "name": "stdout",
     "output_type": "stream",
     "text": [
      "Name: Logan Roy\n",
      "Biography: The patriarch of the Roy family and the CEO of Waystar Royco. Logan is a ruthless and manipulative leader who constantly tests his children's loyalty and ambition. His decisions have far-reaching consequences for the family and the company.\n",
      "\n",
      "Name: Kendall Roy\n",
      "Biography: The eldest son of Logan and a former hopeful successor to the Waystar Royco throne. Kendall has faced numerous personal and professional setbacks, including struggles with addiction. He is constantly trying to prove himself to his father and regain control of his life.\n",
      "\n",
      "Name: Shiv Roy\n",
      "Biography: The only daughter of Logan, Shiv is a political strategist who often leverages her outsider status within the family for personal gain. She is ambitious and calculating, navigating the complex dynamics of her family while pursuing her own goals.\n",
      "\n",
      "Name: Roman Roy\n",
      "Biography: The youngest son of Logan, Roman is initially portrayed as the least serious of the siblings. However, he shows significant growth in his understanding of the business while maintaining his unpredictable nature. His unique bond with Gerri adds layers to his corporate maneuvering.\n",
      "\n",
      "Opening Scene:\n",
      "The camera fades in to show the bustling headquarters of Waystar Royco, with employees rushing around and the sound of phones ringing in the background. In a sleek office, Logan Roy sits behind his desk, a stern expression on his face as he reads through a stack of papers. Kendall enters the room, a tense silence hanging between father and son.\n",
      "\n",
      "Kendall: \"Morning, Dad.\"\n",
      "\n",
      "Logan: (without looking up) \"What do you want, Kendall?\"\n",
      "\n",
      "Kendall: \"I wanted to talk about the latest developments in the Pierce deal. I think we need to-\"\n",
      "\n",
      "Before Kendall can finish his sentence, Shiv enters the room, a steely look in her eyes as she surveys the scene. Roman follows closely behind, a mischievous grin on his face.\n",
      "\n",
      "Shiv: \"What's going on here?\"\n",
      "\n",
      "Logan: (finally looking up) \"Just a little family meeting, it seems. What's on your mind, Shiv?\"\n",
      "\n",
      "The tension in the room is palpable as the Roy siblings exchange looks, each aware of the power dynamics at play and the stakes of their next moves. As the scene fades to black, the audience is left wondering what new challenges and conflicts lie ahead for the Roy family in the upcoming season of \"Succession.\"\n"
     ]
    }
   ],
   "source": [
    "print(characters)"
   ]
  },
  {
   "cell_type": "code",
   "execution_count": 47,
   "id": "2a7edeef-c42d-4187-833b-39298613efa3",
   "metadata": {},
   "outputs": [],
   "source": [
    "plot = plot_generation_chain.invoke({'characters': characters, 'genre': 'corporate drama'})"
   ]
  },
  {
   "cell_type": "code",
   "execution_count": 48,
   "id": "2e3ae111-5b3d-4f42-a5af-d79e272c706a",
   "metadata": {},
   "outputs": [
    {
     "name": "stdout",
     "output_type": "stream",
     "text": [
      "As the camera pans in on the sleek, modern headquarters of Waystar Royco, we see Logan Roy sitting at his massive desk, his face lined with stress and exhaustion. Kendall Roy, now his right-hand man, stands by his side, ready to assist in any way necessary. The tension is palpable as they discuss the latest power struggles within the company.\n",
      "\n",
      "Meanwhile, Shiv Roy is seen in a separate office, deep in conversation with a political advisor, her eyes alight with ambition. She is torn between her desire for political power and her loyalty to her family's business empire. Roman Roy, overseas on a business trip, is navigating a complex international deal that could make or break Waystar's reputation.\n",
      "\n",
      "As the scene unfolds, we see CharExec, a cunning and ruthless executive, making moves to consolidate power within the company. CharRival, a longtime adversary of the Roys, is lurking in the shadows, waiting for the perfect moment to strike. The stage is set for a high-stakes battle of wills, where alliances will be tested and betrayals will be inevitable. The drama and intrigue of the corporate world are about to reach new heights in the next season of \"Succession.\"\n"
     ]
    }
   ],
   "source": [
    "print(plot)"
   ]
  },
  {
   "cell_type": "code",
   "execution_count": 49,
   "id": "b0c7fbb5-c45f-4b5b-ad7e-61534af38fab",
   "metadata": {},
   "outputs": [],
   "source": [
    "scenes = scene_generation_plot_chain.invoke({\n",
    "    'genre': 'corporate drama',\n",
    "    'characters': characters,\n",
    "    'plot': plot\n",
    "})"
   ]
  },
  {
   "cell_type": "code",
   "execution_count": 50,
   "id": "1a4efeb6-fdfa-401b-ad55-d85aa6b102bb",
   "metadata": {},
   "outputs": [
    {
     "name": "stdout",
     "output_type": "stream",
     "text": [
      "Scene 1: \n",
      "The camera fades in to show the bustling headquarters of Waystar Royco, with employees rushing around and the sound of phones ringing in the background. In a sleek office, Logan Roy sits behind his desk, a stern expression on his face as he reads through a stack of papers. Kendall enters the room, a tense silence hanging between father and son.\n",
      "\n",
      "Kendall: \"Morning, Dad.\"\n",
      "\n",
      "Logan: (without looking up) \"What do you want, Kendall?\"\n",
      "\n",
      "Kendall: \"I wanted to talk about the latest developments in the Pierce deal. I think we need to-\"\n",
      "\n",
      "Before Kendall can finish his sentence, Shiv enters the room, a steely look in her eyes as she surveys the scene. Roman follows closely behind, a mischievous grin on his face.\n",
      "\n",
      "Shiv: \"What's going on here?\"\n",
      "\n",
      "Logan: (finally looking up) \"Just a little family meeting, it seems. What's on your mind, Shiv?\"\n",
      "\n",
      "The tension in the room is palpable as the Roy siblings exchange looks, each aware of the power dynamics at play and the stakes of their next moves. As the scene fades to black, the audience is left wondering what new challenges and conflicts lie ahead for the Roy family in the upcoming season of \"Succession.\"\n",
      "\n",
      "Scene 2:\n",
      "Logan Roy calls for a family meeting to discuss a potential merger with a rival company, CharRival. The tension in the room is thick as Logan lays out his plans, each of his children absorbing the news with a mix of shock and determination.\n",
      "\n",
      "Logan: \"This merger could be a game-changer for us. We need to be united in our approach and make sure we come out on top.\"\n",
      "\n",
      "Kendall: \"But Dad, we need to consider the risks involved. This could backfire on us if we're not careful.\"\n",
      "\n",
      "Shiv: \"I agree with Kendall. We need to tread carefully and ensure that we're making the right moves.\"\n",
      "\n",
      "Roman: \"Or we could go all in and take a big risk. That's what this is all about, right?\"\n",
      "\n",
      "The family dynamics are on full display as each sibling grapples with their own ambitions and loyalties. As the tension mounts, the scene fades to black, leaving the audience eager to see how the Roy family will navigate this new challenge in the upcoming season of \"Succession.\"\n"
     ]
    }
   ],
   "source": [
    "print(scenes)"
   ]
  },
  {
   "cell_type": "code",
   "execution_count": 51,
   "id": "223b7c2b-e749-4ea0-ae67-cfac3ac33367",
   "metadata": {},
   "outputs": [],
   "source": [
    "master_chain = (\n",
    "    {\"characters\": character_generation_chain, \"genre\":\n",
    "    RunnablePassthrough()}\n",
    "    | RunnableParallel(\n",
    "        characters=itemgetter(\"characters\"),\n",
    "        genre=itemgetter(\"genre\"),\n",
    "        plot=plot_generation_chain,\n",
    "    )\n",
    "    | RunnableParallel(\n",
    "        characters=itemgetter(\"characters\"),\n",
    "        genre=itemgetter(\"genre\"),\n",
    "        plot=itemgetter(\"plot\"),\n",
    "        scenes=scene_generation_plot_chain,\n",
    "    )\n",
    ")"
   ]
  },
  {
   "cell_type": "code",
   "execution_count": 52,
   "id": "aa761897-ecf0-47a7-bf98-5a87ea2eb87b",
   "metadata": {},
   "outputs": [],
   "source": [
    "story_result = master_chain.invoke({\"genre\": \"romantic comedy\"})"
   ]
  },
  {
   "cell_type": "code",
   "execution_count": 53,
   "id": "4fc7af56-8c34-4d1b-92da-cbdb11fc5b33",
   "metadata": {},
   "outputs": [
    {
     "data": {
      "text/plain": [
       "dict_keys(['characters', 'genre', 'plot', 'scenes'])"
      ]
     },
     "execution_count": 53,
     "metadata": {},
     "output_type": "execute_result"
    }
   ],
   "source": [
    "story_result.keys()"
   ]
  },
  {
   "cell_type": "code",
   "execution_count": 54,
   "id": "5d03a6d2-879b-4437-8d65-e69b229d602a",
   "metadata": {},
   "outputs": [
    {
     "name": "stdout",
     "output_type": "stream",
     "text": [
      "{'genre': 'romantic comedy'}\n"
     ]
    }
   ],
   "source": [
    "print(story_result['genre'])"
   ]
  },
  {
   "cell_type": "code",
   "execution_count": 55,
   "id": "81f30679-6a4e-45bd-864a-008b740bb2da",
   "metadata": {},
   "outputs": [
    {
     "name": "stdout",
     "output_type": "stream",
     "text": [
      "\n",
      "Name: Kendall Roy, Biography: Kendall is struggling to rebuild his reputation after his failed takeover attempt and drug addiction. He is determined to prove himself as a capable leader and gain his father's approval.\n",
      "Name: Shiv Roy, Biography: Shiv is torn between her loyalty to her family and her desire for independence. She is navigating her political ambitions while also trying to maintain her marriage to Tom.\n",
      "Name: Roman Roy, Biography: Roman is embracing his role within the company and showing more focus and determination in his work. He is developing a closer relationship with Gerri, who has become a trusted advisor and confidante.\n"
     ]
    }
   ],
   "source": [
    "print(story_result['characters'])"
   ]
  },
  {
   "cell_type": "code",
   "execution_count": 56,
   "id": "8a1a8bb9-2b39-4482-9b42-1f6d9433fb1a",
   "metadata": {},
   "outputs": [
    {
     "name": "stdout",
     "output_type": "stream",
     "text": [
      "As the sun rises over the sprawling city skyline, we are taken to the sleek and modern headquarters of Waystar Royco. The camera zooms in on Logan Roy, the aging patriarch of the family-owned media conglomerate, as he sits alone in his opulent office, a look of determination etched on his face. Despite facing mounting challenges and fierce competition, Logan is determined to maintain control of his empire and secure his legacy.\n",
      "\n",
      "Meanwhile, Kendall Roy, once the rebellious son seeking to overthrow his father, has now become an ally in Logan's quest for dominance. Kendall is seen strategizing with his father, plotting their next move to outmaneuver their rivals and solidify their power within the company.\n",
      "\n",
      "Shiv Roy, the ambitious daughter of Logan, is shown juggling her political aspirations with her ties to Waystar. As she navigates the cutthroat world of corporate politics, Shiv must decide where her loyalties truly lie and how far she is willing to go to achieve her goals.\n",
      "\n",
      "Roman Roy, the charming and unpredictable brother, is busy handling international business deals that add a layer of complexity to his character. As Roman tries to prove himself in the high-stakes world of corporate finance, he must confront his own insecurities and demons.\n",
      "\n",
      "Amidst the power struggles, betrayals, and alliances that define the world of corporate drama, the stage is set for a new season of \"Succession\" to unfold. As the characters navigate the treacherous waters of the business world, viewers are left on the edge of their seats, eager to see who will come out on top in this high-stakes game of power and ambition.\n"
     ]
    }
   ],
   "source": [
    "print(story_result['plot'])"
   ]
  },
  {
   "cell_type": "code",
   "execution_count": 57,
   "id": "bf32de48-19d5-413d-a469-69bc0a622f32",
   "metadata": {},
   "outputs": [
    {
     "name": "stdout",
     "output_type": "stream",
     "text": [
      "\n",
      "Scene 1: The camera pans over the sleek, modern office of Waystar Royco, where Kendall Roy sits at his desk, typing furiously on his laptop. The room is dimly lit, casting shadows on Kendall's tired face as he works late into the night, determined to prove himself to his father and the rest of the company.\n",
      "\n",
      "Kendall: (muttering to himself) \"I need to make this work. I need to show them I'm capable.\"\n",
      "\n",
      "Just then, Shiv Roy enters the room, her expression unreadable as she watches Kendall work.\n",
      "\n",
      "Shiv: \"Kendall, we need to talk.\"\n",
      "\n",
      "Kendall looks up, his eyes meeting Shiv's with a mixture of determination and apprehension.\n",
      "\n",
      "Kendall: \"What is it, Shiv?\"\n",
      "\n",
      "Shiv: \"I heard about your meeting with CharExec. Are you really going to go through with this new strategic direction?\"\n",
      "\n",
      "Kendall: (defensive) \"Yes, Shiv. I have a plan. Trust me, this is the way forward.\"\n",
      "\n",
      "Shiv: (skeptical) \"I don't know, Kendall. It seems risky. Dad won't be happy if this backfires.\"\n",
      "\n",
      "Kendall: (frustrated) \"I don't care about Dad's approval anymore. I need to do what's best for the company, for all of us.\"\n",
      "\n",
      "Shiv's expression softens, a hint of understanding in her eyes as she looks at her brother.\n",
      "\n",
      "Shiv: \"Just be careful, Kendall. We can't afford any more missteps.\"\n",
      "\n",
      "Kendall nods, a determined glint in his eyes as he turns back to his laptop, the weight of his responsibilities heavy on his shoulders.\n",
      "\n",
      "Scene 2: Meanwhile, Roman Roy is seen in a high-powered meeting room, negotiating a critical deal with international partners. Gerri, his trusted advisor, stands by his side, offering guidance and support as Roman navigates the complex negotiations with confidence and determination.\n",
      "\n",
      "Roman: (charming the partners) \"Gentlemen, I assure you, this deal will be mutually beneficial for all parties involved. Trust me, you won't regret partnering with Waystar Royco.\"\n",
      "\n",
      "The partners exchange looks, impressed by Roman's charisma and business acumen as they consider his proposal.\n",
      "\n",
      "Gerri: (whispering to Roman) \"You're doing great, Roman. Keep up the good work.\"\n",
      "\n",
      "Roman flashes a grateful smile at Gerri, feeling a sense of pride and accomplishment as he continues to lead the negotiations with a newfound sense of focus and determination.\n",
      "\n",
      "The scene fades to black, setting the stage for the high-stakes drama and intense power struggles that lie ahead in the next season of \"Succession\".\n"
     ]
    }
   ],
   "source": [
    "print(story_result['scenes'])"
   ]
  },
  {
   "cell_type": "markdown",
   "id": "0dfd2aa2-c0eb-4e5b-a96e-c0c4f14c3b94",
   "metadata": {},
   "source": [
    "## Two main things. I didn't think it would actually incorporate \"CharExec\" and \"CharRival\" as actual characters, even though I inputted them as just examples. That is easily fixable, but the second point was that, throughout its answers, it is juggling several different points in time when describing the various characters, explaining the setting for the scene, and creating the plot. It seems to lean into the main pieces of information it got about each character, relationship, and plot line. Now, let's see how it will do creating a show like Succession but, a spinoff."
   ]
  },
  {
   "cell_type": "code",
   "execution_count": 58,
   "id": "a1f70890-2f76-4945-a2f9-99e658925393",
   "metadata": {},
   "outputs": [],
   "source": [
    "character_generation_prompt = ChatPromptTemplate.from_template(\n",
    "    \"\"\"I want you to decide characters that will be in a spinoff of the show \"Succession.\" Based on the following analysis of 'Succession,' create the characters for a spinoff show of \"Succession.\"\n",
    "    \"Succession\" intricately weaves the personal and professional lives of the Roy family, whose patriarch, Logan Roy, heads the global media conglomerate Waystar Royco. The show meticulously explores themes of power, legacy, and familial loyalty through its complex characters and their relationships.\n",
    "\n",
    "    Character Development: Each main character exhibits a deep, personal journey influenced by their aspirations and the heavy shadow cast by Logan. Kendall starts as a hopeful successor but faces numerous personal and professional setbacks. Shiv navigates her political ambitions and complex familial ties, often leveraging her outsider status within the family for personal gain. Roman, initially portrayed as the least serious of the siblings, shows significant growth in his understanding of the business, though he retains his unpredictable nature.\n",
    "\n",
    "    Relationship Dynamics: At the core of the series are the tumultuous relationships among the Roy family members. Logan’s manipulative tendencies often pit his children against one another, testing their loyalty and ambition. Kendall, Shiv, and Roman share a competitive yet occasionally collaborative relationship, reflective of their upbringing under Logan's overbearing scrutiny. Shiv's marriage to Tom Wambsgans highlights a dynamic of strategic alliance and emotional complexity, often mirroring the larger corporate battles within Waystar Royco. Meanwhile, Roman's unique bond with Gerri showcases a mix of mentorship and personal connection, adding layers to his corporate maneuvering.\n",
    "\n",
    "    Corporate and Personal Conflicts: The show also focuses on external pressures, such as corporate takeovers and public scandals, that challenge the Roy family's unity and control over their company. These elements are intertwined with personal stories, such as Kendall's struggles with addiction and the impact of his actions on his family and career.\n",
    "\n",
    "    To effectively write a new season of \"Succession,\" it would be crucial to continue exploring these rich character arcs and dynamics, while introducing new challenges that could potentially shift power within the family. A possible storyline could involve an external threat that forces the siblings to temporarily align, testing their individual loyalties and ambitions in new ways. Additionally, further exploring the implications of Logan's decisions on his children’s futures and the stability of Waystar Royco could provide compelling material, especially as they navigate the repercussions of past actions on both personal and professional fronts.\n",
    "\n",
    "    You must decide the characters that will be in the spinoff show. Each character must have a Name and a Biography, which reflects their role in this specific point in the storyline and their relationships with other main characters at the current moment. \n",
    "---\n",
    "Example response:\n",
    "Name: Manas Narula, Biography: A new executive who challenges the existing power dynamics at Waystar Royco.\n",
    "---\n",
    "Characters: \"\"\"\n",
    ")\n",
    "\n",
    "plot_generation_prompt = ChatPromptTemplate.from_template(\n",
    "    \"\"\"Given the following characters and the genre, create an effective plot and setting for a spinoff show of \"Succession\":\n",
    "Characters:\n",
    "{characters}\n",
    "---\n",
    "Genre: corporate drama\n",
    "---\n",
    "Plot: \"\"\"\n",
    "    )\n",
    "\n",
    "scene_generation_plot_prompt = ChatPromptTemplate.from_template(\n",
    "    \"\"\"Act as an effective content creator.\n",
    "Given multiple characters and a plot, you are responsible for generating scenes for a spinoff show of \"Succession\".\n",
    "\n",
    "You must decompose the scene into effective dialogue and descriptions of the settings and actions:\n",
    "---\n",
    "Characters:\n",
    "{characters}\n",
    "---\n",
    "Genre: corporate drama\n",
    "---\n",
    "Plot: [Detailed plot goes here based on the plot generation prompt]\n",
    "---\n",
    "Example response:\n",
    "Scenes:\n",
    "Scene 1: Logan Roy holds a secretive meeting with Manas, discussing a potential merger.\n",
    "Scene 2: Kendall and Shiv clash over the new strategic direction proposed by Manas.\n",
    "Scene 3: Roman negotiates a critical deal overseas, testing his loyalty and business acumen.\n",
    "----\n",
    "Scenes:\n",
    "    \"\"\"\n",
    ")"
   ]
  },
  {
   "cell_type": "code",
   "execution_count": 59,
   "id": "84d8d45a-5525-4341-b00f-c2dc21d3135e",
   "metadata": {},
   "outputs": [
    {
     "name": "stdout",
     "output_type": "stream",
     "text": [
      "I want you to decide characters that will be in a spinoff of the show \"Succession.\" Based on the following analysis of 'Succession,' create the characters for a spinoff show of \"Succession.\"\n",
      "    \"Succession\" intricately weaves the personal and professional lives of the Roy family, whose patriarch, Logan Roy, heads the global media conglomerate Waystar Royco. The show meticulously explores themes of power, legacy, and familial loyalty through its complex characters and their relationships.\n",
      "\n",
      "    Character Development: Each main character exhibits a deep, personal journey influenced by their aspirations and the heavy shadow cast by Logan. Kendall starts as a hopeful successor but faces numerous personal and professional setbacks. Shiv navigates her political ambitions and complex familial ties, often leveraging her outsider status within the family for personal gain. Roman, initially portrayed as the least serious of the siblings, shows significant growth in his understanding of the business, though he retains his unpredictable nature.\n",
      "\n",
      "    Relationship Dynamics: At the core of the series are the tumultuous relationships among the Roy family members. Logan’s manipulative tendencies often pit his children against one another, testing their loyalty and ambition. Kendall, Shiv, and Roman share a competitive yet occasionally collaborative relationship, reflective of their upbringing under Logan's overbearing scrutiny. Shiv's marriage to Tom Wambsgans highlights a dynamic of strategic alliance and emotional complexity, often mirroring the larger corporate battles within Waystar Royco. Meanwhile, Roman's unique bond with Gerri showcases a mix of mentorship and personal connection, adding layers to his corporate maneuvering.\n",
      "\n",
      "    Corporate and Personal Conflicts: The show also focuses on external pressures, such as corporate takeovers and public scandals, that challenge the Roy family's unity and control over their company. These elements are intertwined with personal stories, such as Kendall's struggles with addiction and the impact of his actions on his family and career.\n",
      "\n",
      "    To effectively write a new season of \"Succession,\" it would be crucial to continue exploring these rich character arcs and dynamics, while introducing new challenges that could potentially shift power within the family. A possible storyline could involve an external threat that forces the siblings to temporarily align, testing their individual loyalties and ambitions in new ways. Additionally, further exploring the implications of Logan's decisions on his children’s futures and the stability of Waystar Royco could provide compelling material, especially as they navigate the repercussions of past actions on both personal and professional fronts.\n",
      "\n",
      "    You must decide the characters that will be in the spinoff show. Each character must have a Name and a Biography, which reflects their role in this specific point in the storyline and their relationships with other main characters at the current moment. \n",
      "---\n",
      "Example response:\n",
      "Name: Manas Narula, Biography: A new executive who challenges the existing power dynamics at Waystar Royco.\n",
      "---\n",
      "Characters: \n"
     ]
    }
   ],
   "source": [
    "print(character_generation_prompt.invoke({'genre': 'corporate drama'}).messages[0].content)"
   ]
  },
  {
   "cell_type": "code",
   "execution_count": 60,
   "id": "4a717369-ad7f-4ba9-b787-11c76a0f9373",
   "metadata": {},
   "outputs": [
    {
     "data": {
      "text/plain": [
       "{'genre': 'corporate drama'}"
      ]
     },
     "execution_count": 60,
     "metadata": {},
     "output_type": "execute_result"
    }
   ],
   "source": [
    "chain = RunnablePassthrough() | {\n",
    "    \"genre\": itemgetter(\"genre\"),\n",
    "  }\n",
    "\n",
    "chain.invoke({\"genre\": \"corporate drama\"})"
   ]
  },
  {
   "cell_type": "code",
   "execution_count": 61,
   "id": "5ff1d493-1ed7-4789-94ab-5ea748de6f6e",
   "metadata": {},
   "outputs": [],
   "source": [
    "master_chain = RunnablePassthrough() | {\n",
    "    \"genre\": itemgetter(\"genre\"),\n",
    "    \"upper_case_genre\": lambda x: x[\"genre\"].upper(),\n",
    "    \"lower_case_genre\": RunnableLambda(lambda x: x[\"genre\"].lower()),\n",
    "}"
   ]
  },
  {
   "cell_type": "code",
   "execution_count": 62,
   "id": "88f97718-a684-4426-99e7-3f01855a0510",
   "metadata": {},
   "outputs": [],
   "source": [
    "model = ChatOpenAI()\n",
    "\n",
    "character_generation_chain = ( character_generation_prompt\n",
    "| model\n",
    "| StrOutputParser() )\n",
    "\n",
    "plot_generation_chain = ( plot_generation_prompt\n",
    "| model\n",
    "| StrOutputParser() )\n",
    "\n",
    "scene_generation_plot_chain = ( scene_generation_plot_prompt\n",
    "| model\n",
    "| StrOutputParser()  )"
   ]
  },
  {
   "cell_type": "code",
   "execution_count": 67,
   "id": "9ae97eeb-f46b-464a-bae4-d3f28d4ddcd7",
   "metadata": {},
   "outputs": [],
   "source": [
    "characters = character_generation_chain.invoke({'genre': 'romantic comedy'})"
   ]
  },
  {
   "cell_type": "code",
   "execution_count": 68,
   "id": "895ce867-c2b0-48b4-b9d6-f71afe1b34a5",
   "metadata": {},
   "outputs": [
    {
     "name": "stdout",
     "output_type": "stream",
     "text": [
      "Name: Isla Roy\n",
      "Biography: Isla is Logan's estranged daughter from a previous marriage, who resurfaces to claim her rightful place in the family business. Her arrival shakes up the dynamics within the Roy family, as she brings a new perspective and ambition to the table.\n",
      "\n",
      "Name: Santiago \"Santi\" Cruz\n",
      "Biography: Santi is a charismatic and ambitious journalist who aims to expose the dark secrets of Waystar Royco. His investigative reporting threatens to unravel the family's carefully constructed facade, leading to intense confrontations and power struggles.\n",
      "\n",
      "Name: Harper Sinclair\n",
      "Biography: Harper is a savvy businesswoman and rival executive who challenges the Roy family's control over the media industry. Her strategic maneuvers and sharp wit make her a formidable opponent, forcing the siblings to reevaluate their alliances and tactics in the cutthroat world of corporate power.\n"
     ]
    }
   ],
   "source": [
    "print(characters)"
   ]
  },
  {
   "cell_type": "code",
   "execution_count": 69,
   "id": "b25e4924-135f-40b9-bb0b-1d4c40397e84",
   "metadata": {},
   "outputs": [],
   "source": [
    "plot = plot_generation_chain.invoke({'characters': characters, 'genre': 'romantic comedy'})"
   ]
  },
  {
   "cell_type": "code",
   "execution_count": 70,
   "id": "40a4b5e3-4e35-4549-b483-f7a2298e0f46",
   "metadata": {},
   "outputs": [
    {
     "name": "stdout",
     "output_type": "stream",
     "text": [
      "As the heiress to the Roy family fortune, Isla Roy returns to Waystar Royco with a vengeance, determined to claim her rightful place in the family business. Her arrival sends shockwaves through the company and the Roy family, as she challenges her father Logan and her siblings for control of the empire. Isla's fresh perspective and ambition clash with the established power dynamics, leading to intense power struggles and family feuds.\n",
      "\n",
      "Meanwhile, journalist Santiago \"Santi\" Cruz begins investigating the dark secrets of Waystar Royco, determined to expose the corruption and unethical practices that have propelled the company to success. His relentless pursuit of the truth puts him on a collision course with the Roy family, as they try to protect their reputation and maintain their grip on power.\n",
      "\n",
      "As tensions escalate, rival executive Harper Sinclair sees an opportunity to exploit the chaos within the Roy family and make a play for control of the media industry. Her strategic maneuvers and sharp business acumen pose a serious threat to the Roy siblings, forcing them to reevaluate their alliances and tactics in the cutthroat world of corporate power.\n",
      "\n",
      "Set against the backdrop of the ruthless corporate world, \"Succession: Power Struggle\" follows Isla, Santi, and Harper as they navigate the treacherous waters of ambition, betrayal, and family loyalty. In a world where only the strong survive, who will come out on top in the ultimate power struggle?\n"
     ]
    }
   ],
   "source": [
    "print(plot)"
   ]
  },
  {
   "cell_type": "code",
   "execution_count": 71,
   "id": "6171ad4d-e1ba-44d3-8822-49ea5f7e4b0f",
   "metadata": {},
   "outputs": [],
   "source": [
    "scenes = scene_generation_plot_chain.invoke({\n",
    "    'genre': 'corporate drama',\n",
    "    'characters': characters,\n",
    "    'plot': plot\n",
    "})"
   ]
  },
  {
   "cell_type": "code",
   "execution_count": 72,
   "id": "a4dfbe70-37ca-442c-bd66-0e971d14b0b0",
   "metadata": {},
   "outputs": [
    {
     "name": "stdout",
     "output_type": "stream",
     "text": [
      "Scene 1: Isla Roy confronts Logan at a family dinner, demanding to be included in the succession plan for Waystar Royco. The tension is palpable as Isla asserts her place in the family business, catching Logan off guard with her boldness and determination. The rest of the family watches in stunned silence as Isla challenges the patriarch of the Roy empire.\n",
      "\n",
      "Scene 2: Santi Cruz receives a tip about a scandal within Waystar Royco and sets out to investigate, determined to uncover the truth no matter the cost. As he delves deeper into the dark underbelly of the company, Santi faces resistance from powerful forces intent on keeping their secrets hidden. His relentless pursuit of the truth puts him on a collision course with the Roy family, setting the stage for a high-stakes showdown.\n",
      "\n",
      "Scene 3: Harper Sinclair launches a hostile takeover bid for a key media company, sending shockwaves through the industry and threatening the Roy family's dominance. As Harper's bold move shakes up the corporate landscape, the Roy siblings must decide whether to join forces or face defeat at the hands of their formidable rival. With the future of Waystar Royco hanging in the balance, alliances are tested and loyalties are put to the ultimate test in a battle for corporate supremacy.\n"
     ]
    }
   ],
   "source": [
    "print(scenes)"
   ]
  },
  {
   "cell_type": "code",
   "execution_count": 73,
   "id": "0bfed045-2b0e-4bdf-a07b-a321f8011fe0",
   "metadata": {},
   "outputs": [],
   "source": [
    "master_chain = (\n",
    "    {\"characters\": character_generation_chain, \"genre\":\n",
    "    RunnablePassthrough()}\n",
    "    | RunnableParallel(\n",
    "        characters=itemgetter(\"characters\"),\n",
    "        genre=itemgetter(\"genre\"),\n",
    "        plot=plot_generation_chain,\n",
    "    )\n",
    "    | RunnableParallel(\n",
    "        characters=itemgetter(\"characters\"),\n",
    "        genre=itemgetter(\"genre\"),\n",
    "        plot=itemgetter(\"plot\"),\n",
    "        scenes=scene_generation_plot_chain,\n",
    "    )\n",
    ")"
   ]
  },
  {
   "cell_type": "code",
   "execution_count": 74,
   "id": "0376c42b-6606-457e-9907-2b19c8a80d9b",
   "metadata": {},
   "outputs": [],
   "source": [
    "story_result = master_chain.invoke({\"genre\": \"romantic comedy\"})"
   ]
  },
  {
   "cell_type": "code",
   "execution_count": 75,
   "id": "f7518195-725b-413b-a9c9-ad44c4e9c9e7",
   "metadata": {},
   "outputs": [
    {
     "data": {
      "text/plain": [
       "dict_keys(['characters', 'genre', 'plot', 'scenes'])"
      ]
     },
     "execution_count": 75,
     "metadata": {},
     "output_type": "execute_result"
    }
   ],
   "source": [
    "story_result.keys()"
   ]
  },
  {
   "cell_type": "code",
   "execution_count": 76,
   "id": "6040aaea-d72a-4dd2-8b0c-a4ad22decdf5",
   "metadata": {},
   "outputs": [
    {
     "name": "stdout",
     "output_type": "stream",
     "text": [
      "{'genre': 'romantic comedy'}\n"
     ]
    }
   ],
   "source": [
    "print(story_result['genre'])"
   ]
  },
  {
   "cell_type": "code",
   "execution_count": 77,
   "id": "23740ab2-05f1-4b6d-81d7-e7753a7c2b6a",
   "metadata": {},
   "outputs": [
    {
     "name": "stdout",
     "output_type": "stream",
     "text": [
      "Name: Harper Roy\n",
      "Biography: The youngest Roy sibling, Harper is determined to prove herself in the cutthroat world of media and business. She is ambitious and willing to do whatever it takes to earn her place within the family and the company. Harper often finds herself caught between her siblings, trying to navigate their complex relationships and power struggles.\n",
      "\n",
      "Name: Maxine \"Max\" Sinclair\n",
      "Biography: A charismatic and savvy journalist who uncovers a scandal within Waystar Royco, Maxine poses a significant threat to the Roy family's reputation and control over the company. She forms an unlikely alliance with one of the Roy siblings, leading to a complicated dynamic of trust and betrayal as they work together to uncover the truth behind the corporate facades.\n"
     ]
    }
   ],
   "source": [
    "print(story_result['characters'])"
   ]
  },
  {
   "cell_type": "code",
   "execution_count": 78,
   "id": "0ea43eaa-8979-4c62-b84b-dc30b52588ca",
   "metadata": {},
   "outputs": [
    {
     "name": "stdout",
     "output_type": "stream",
     "text": [
      "In the spinoff show of \"Succession\", Harper Roy is determined to prove herself as a force to be reckoned with in the cutthroat world of media and business. As the youngest Roy sibling, she faces constant challenges from her older siblings who underestimate her abilities. Harper must navigate the power struggles within the family and the company, all while trying to earn her place and make a name for herself.\n",
      "\n",
      "Meanwhile, Maxine \"Max\" Sinclair, a charismatic and savvy journalist, uncovers a scandal within Waystar Royco that threatens to bring down the Roy family's reputation and control over the company. Max forms an unlikely alliance with Harper, who sees an opportunity to prove her worth by helping Max uncover the truth behind the corporate facades.\n",
      "\n",
      "As Harper and Max delve deeper into the scandal, they find themselves embroiled in a web of deception, betrayal, and manipulation. They must navigate the treacherous world of corporate politics while facing off against powerful enemies who will stop at nothing to protect their interests.\n",
      "\n",
      "Set against the backdrop of the high-stakes world of media and business, the spinoff show of \"Succession\" follows Harper and Max as they fight to uncover the truth and take down the corrupt forces at Waystar Royco. With their futures on the line, Harper and Max must rely on each other to survive in a world where loyalty is a rare commodity and betrayal lurks around every corner.\n"
     ]
    }
   ],
   "source": [
    "print(story_result['plot'])"
   ]
  },
  {
   "cell_type": "markdown",
   "id": "3472aa3d-aee7-4da0-adf0-c0612860c836",
   "metadata": {},
   "source": [
    "## GPT-4 Result\n",
    "\n",
    "**Characters:**\n",
    "\n",
    "Kendall Roy: Reeling from his loss and the betrayal by his siblings, Kendall could struggle to find his footing outside the shadow of the family empire. His journey might involve seeking redemption or a new path, possibly exploring alliances outside the family.\n",
    "\n",
    "Shiv Roy: Now in a powerful position, Shiv faces the challenge of navigating her role under the watchful eyes of Matsson and the board. Her leadership style and decisions could spark internal conflicts, testing her political acumen and personal relationships, especially with Tom.\n",
    "\n",
    "Roman Roy: Roman might capitalize on his ambiguous position to maneuver within the new company structure. His storyline could explore a more serious and cunning side as he aims to gain influence under the new regime.\n",
    "\n",
    "Tom Wambsgans: As the new puppet CEO, Tom's relationship with Shiv could become even more complex, intertwining personal vendettas with professional roles. His character could undergo significant development as he balances his loyalty to Shiv with his newfound power.\n",
    "\n",
    "Corporate and External Dynamics: The season could also introduce new characters from GoJo, adding layers to the corporate intrigue. Legal battles, media scrutiny, and international business dealings could be key themes, reflecting broader societal and economic issues.\n",
    "\n",
    "**Episodes**\n",
    "\n",
    "For a detailed, episode-by-episode unfolding of the next season of \"Succession,\" each episode could intricately build upon the last, deepening character arcs and escalating the overarching plot:\n",
    "\n",
    "Episode 1: \"New Order\"\n",
    "\n",
    "The season opens in the immediate aftermath of the merger. A dimly lit boardroom sets the scene where Kendall, Shiv, and Roman grapple with the implications of their choices. Shiv tries to assert her authority in her new role, while Kendall distances himself, contemplating a drastic change. Roman, seemingly indifferent, is secretly plotting his next move. The episode sets up the power struggles that will define the season.\n",
    "\n",
    "Episode 2: \"Legacy's Burden\"\n",
    "\n",
    "Kendall begins to forge a new path outside Waystar, approaching former adversaries to start a rival company. Shiv faces her first major challenge as a leader when a crisis hits one of the company’s European branches. Roman enjoys the chaos, using it to his advantage to curry favor with the board.\n",
    "\n",
    "Episode 3: \"Alliances\"\n",
    "\n",
    "This episode focuses on alliances. Tom navigates his role as CEO, balancing his allegiance to Shiv with his growing aspirations. Shiv and Roman clash over strategic decisions, while Kendall secures funding for his new venture. Backstories of new GoJo executives are introduced, highlighting their potential as allies or threats.\n",
    "\n",
    "Episode 4: \"Divide and Conquer\"\n",
    "\n",
    "Shiv deals with leaks in the company that threaten to destabilize her position. Kendall leverages this, using the media to undermine Shiv’s credibility. Roman, seeing an opportunity, plays both sides to position himself as a mediator, while secretly planning a major corporate move.\n",
    "\n",
    "Episode 5: \"Revelations\"\n",
    "\n",
    "Secrets from the Roy family's past surface, threatening the delicate balance of power. An expose reveals Logan's hidden dealings, affecting each sibling differently and forcing them to reconsider their loyalties. Tom faces a personal dilemma that could affect his marriage and career.\n",
    "\n",
    "Episode 6: \"High Stakes\"\n",
    "\n",
    "As the mid-season climax, this episode sees Kendall launching his new company, directly challenging Shiv’s leadership at Waystar. Roman’s covert plan comes to light, leading to a dramatic showdown at a shareholders' meeting. The episode ends with a betrayal that changes the course of the power struggle.\n",
    "\n",
    "Episode 7: \"Fallout\"\n",
    "\n",
    "The fallout from the shareholders' meeting leaves the company in turmoil. Shiv, Roman, and Kendall must deal with the consequences of their actions. Personal relationships are tested, and the siblings must confront their deteriorating personal connections.\n",
    "\n",
    "Episode 8: \"The Gambit\"\n",
    "\n",
    "Tom’s role as CEO is jeopardized as external forces threaten a takeover. Shiv, Roman, and Kendall momentarily put aside their differences to save the company, leading to unexpected alliances and strategies.\n",
    "\n",
    "Episode 9: \"Endgame\"\n",
    "\n",
    "Strategic maneuvers dominate this penultimate episode. Each sibling crafts their final play to secure their position within or outside the company. Conflicts reach a peak, setting the stage for dramatic resolutions.\n",
    "\n",
    "Episode 10: \"Succession\"\n",
    "\n",
    "The season finale resolves the lingering conflicts. A major event forces the siblings to make definitive choices about their futures, both personally and professionally. The episode wraps up with a surprising twist that sets the stage for the next season, leaving viewers questioning who will ultimately lead Waystar Royco.\n",
    "\n",
    "This season would explore themes of power, betrayal, and redemption, while delving deeper into the complexities of each character’s ambitions and relationships, providing a rich narrative tapestry that keeps audiences engaged."
   ]
  },
  {
   "cell_type": "code",
   "execution_count": 80,
   "id": "829c23ff-afa9-4dcc-841c-e814b16c3084",
   "metadata": {},
   "outputs": [],
   "source": [
    "import os\n",
    "API_KEY = os.getenv('OPENAI_API_KEY')"
   ]
  },
  {
   "cell_type": "code",
   "execution_count": null,
   "id": "7eb936af-a5ce-4ea4-886c-88055a8a6002",
   "metadata": {},
   "outputs": [],
   "source": []
  }
 ],
 "metadata": {
  "citation-manager": {
   "items": {}
  },
  "kernelspec": {
   "display_name": "Python 3.11 (COMM4190)",
   "language": "python",
   "name": "comm4190"
  },
  "language_info": {
   "codemirror_mode": {
    "name": "ipython",
    "version": 3
   },
   "file_extension": ".py",
   "mimetype": "text/x-python",
   "name": "python",
   "nbconvert_exporter": "python",
   "pygments_lexer": "ipython3",
   "version": "3.11.7"
  }
 },
 "nbformat": 4,
 "nbformat_minor": 5
}
