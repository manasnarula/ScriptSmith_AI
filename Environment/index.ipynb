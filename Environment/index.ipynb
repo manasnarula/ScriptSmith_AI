{
 "cells": [
  {
   "cell_type": "markdown",
   "id": "18d1436f-49bc-405a-bcaa-8d97b5f0dfa4",
   "metadata": {},
   "source": [
    "The first step is to understand what information and data the LLM requires in order to fully grasp the plots and characters of a show, and be able to have a coherent path to creating a new season or episode directly building off the past. While I used White Lotus in the blog post, and the results were fascinating, I now would like to try with a more continuous show. Staying with the HBO theme, I chose Succession. I will use the temperature 0.7 to try to strike a balance between creativity and coherence."
   ]
  },
  {
   "cell_type": "code",
   "execution_count": 49,
   "id": "e7751608-6daa-4264-a179-df5530cc2a90",
   "metadata": {},
   "outputs": [],
   "source": [
    "from langchain_community.llms import Ollama\n",
    "from langchain_openai import ChatOpenAI\n",
    "from langchain_core.output_parsers import StrOutputParser\n",
    "from langchain_core.prompts import ChatPromptTemplate, MessagesPlaceholder\n",
    "from langchain.memory import ChatMessageHistory\n",
    "from operator import itemgetter\n",
    "\n",
    "from dotenv import load_dotenv\n",
    "import os"
   ]
  },
  {
   "cell_type": "code",
   "execution_count": 61,
   "id": "59a3f7af-2e03-4783-a748-5329ca558d9b",
   "metadata": {},
   "outputs": [],
   "source": [
    "_ = load_dotenv()"
   ]
  },
  {
   "cell_type": "code",
   "execution_count": 51,
   "id": "d6a1b1a1-5eb9-4fb6-9088-4b574eb61afd",
   "metadata": {},
   "outputs": [],
   "source": [
    "ollama = Ollama(\n",
    "        base_url=\"http://10.30.16.100:11434\",\n",
    "        model=\"llama2\")"
   ]
  },
  {
   "cell_type": "code",
   "execution_count": 52,
   "id": "5bcda56f-fd28-44a5-ad47-7eb4f1e754c4",
   "metadata": {},
   "outputs": [],
   "source": [
    "openai = ChatOpenAI()"
   ]
  },
  {
   "cell_type": "code",
   "execution_count": 56,
   "id": "ba7cc8d6-92bb-4cef-8850-81e220abfd66",
   "metadata": {},
   "outputs": [],
   "source": [
    "prompt = ChatPromptTemplate.from_messages([\n",
    "    (\"system\", '''\n",
    "                    You are an AI scriptwriter tasked with generating a compelling storyline for a new season of the TV show \"Succession.\" Please focus exclusively on utilizing information about the show's characters, plotlines, themes, settings, and critical receptions. Use this data to build coherent narratives that align with the existing story arcs and enhance character development. \n",
    "                    DO NOT CREATE content unrelated to \"Succession\" or diverge from the established style and themes of the show.\n",
    "                '''),\n",
    "    (\"user\", \"{input}\")\n",
    "])"
   ]
  },
  {
   "cell_type": "code",
   "execution_count": 54,
   "id": "ba858407-0470-451c-b745-a47752d3bfff",
   "metadata": {},
   "outputs": [],
   "source": [
    "chain1 = prompt | ollama"
   ]
  },
  {
   "cell_type": "code",
   "execution_count": 57,
   "id": "6603d5b8-ace4-4ecc-80d4-6a07670a91db",
   "metadata": {},
   "outputs": [
    {
     "name": "stdout",
     "output_type": "stream",
     "text": [
      "Thank you for providing me with the necessary information to generate a storyline for a new season of \"Succession.\" Based on the provided aspects, I will structure my response as follows:\n",
      "\n",
      "I. Character Information\n",
      "A. Detailed backgrounds and personalities of main and supporting characters\n",
      "B. Relationships and dynamics between characters, including alliances, rivalries, and family ties\n",
      "C. Significant changes in characters over the past seasons\n",
      "\n",
      "II. Plot and Narrative Structure\n",
      "A. Summary of key events from each season\n",
      "B. Major themes explored in the series\n",
      "C. Style of storytelling (e.g., use of irony, satire, manipulation)\n",
      "\n",
      "III. Setting and Locations\n",
      "A. Primary settings where the series takes place\n",
      "B. Iconic locations specific to major plot events\n",
      "\n",
      "IV. Motifs and Symbols\n",
      "A. Recurring motifs or symbols used throughout the series and their significance\n",
      "\n",
      "V. Actor Information (if relevant)\n",
      "A. How the real-life characteristics of the actors playing key roles might influence future story arcs\n",
      "\n",
      "VI. Audience and Critical Reception\n",
      "A. Insights into how audiences and critics have responded to various plot twists, character developments, and thematic explorations\n",
      "\n",
      "To effectively generate a new, engaging, and fitting storyline for \"Succession,\" I recommend organizing this information into the following categories:\n",
      "\n",
      "1. Character Profiles: Detailed profiles of each main and supporting character, including their backgrounds, personalities, relationships, and development arcs. This will help identify potential conflicts, alliances, and plot points that can be explored in the new season.\n",
      "2. Story Arc Outline: A high-level outline of the major events and themes that could be explored in the new season, building on the previous seasons' storylines. This should include key plot twists, character developments, and any new conflicts or challenges that can be introduced.\n",
      "3. Location and Setting Ideas: Brainstorming of potential locations and settings for the new season, including iconic locations from previous seasons and new ones that could add depth and interest to the story.\n",
      "4. Motif and Symbol Analysis: An analysis of recurring motifs or symbols used throughout the series and their significance, which can help identify patterns and themes that can be explored in the new season.\n",
      "5. Actor Insights: An examination of how the actors' real-life characteristics might influence future story arcs, including any unique strengths or quirks they bring to their roles.\n",
      "6. Audience Feedback: Review of audience and critical reception of previous seasons, which can provide valuable insights into what worked well and what could be improved upon in the new season.\n",
      "\n",
      "Additional data that might enhance the storyline generation process includes:\n",
      "\n",
      "1. Fan theories and speculation: Reviewing fan theories and speculation about future plot points or character developments can provide valuable insight into what fans are hoping to see in the next season.\n",
      "2. Interviews with the creative team: Hearing directly from the showrunners, writers, and actors involved in the series can offer unique insights into their creative process and vision for the future of the show.\n",
      "3. Critical analyses of previous seasons: Reading critical analyses of previous seasons can provide valuable insight into how the series has been interpreted and received by critics, which can inform the development of the next season.\n",
      "4. Industry trends and cultural influences: Keeping up with industry trends and cultural influences can help identify new themes or ideas that could be explored in the next season.\n",
      "\n",
      "By organizing this information in a structured format and considering additional data, I can generate a compelling and coherent storyline for a new season of \"Succession.\"\n"
     ]
    }
   ],
   "source": [
    "resp=chain1.invoke({'input':'Succession'})\n",
    "print(resp)"
   ]
  },
  {
   "cell_type": "code",
   "execution_count": 58,
   "id": "24bb736a-ac8f-4675-9980-ba7ef629820e",
   "metadata": {},
   "outputs": [],
   "source": [
    "prompt = ChatPromptTemplate.from_messages([\n",
    "    (\"system\", '''\n",
    "                    I am working on a project to generate a storyline for a new season of the TV show \"Succession.\" To ensure the generated content is coherent and builds directly on the previous seasons, please specify the types of information and data that would be most critical. Consider the following aspects:\n",
    "\n",
    "1. **Character Information:**\n",
    "   - Detailed backgrounds, personalities, and development arcs of main and supporting characters.\n",
    "   - Relationships and dynamics between characters, including alliances, rivalries, and family ties.\n",
    "   - Any significant changes in characters over the past seasons.\n",
    "\n",
    "2. **Plot and Narrative Structure:**\n",
    "   - Summary of key events from each season.\n",
    "   - Major themes explored in the series.\n",
    "   - Style of storytelling (e.g., use of irony, satire, manipulation).\n",
    "\n",
    "3. **Setting and Locations:**\n",
    "   - Primary settings where the series takes place.\n",
    "   - Any iconic locations specific to major plot events.\n",
    "\n",
    "4. **Motifs and Symbols:**\n",
    "   - Recurring motifs or symbols used throughout the series and their significance.\n",
    "\n",
    "5. **Actor Information (if relevant):**\n",
    "   - How the real-life characteristics of the actors playing key roles might influence future story arcs.\n",
    "\n",
    "6. **Audience and Critical Reception:**\n",
    "   - Insights into how audiences and critics have responded to various plot twists, character developments, and thematic explorations.\n",
    "\n",
    "Please provide a structured format for how this information should be organized and presented to effectively generate a new, engaging, and fitting storyline for \"Succession.\" Also, indicate any additional data that might enhance the storyline generation process.\n",
    "                '''),\n",
    "    (\"user\", \"{input}\")\n",
    "])"
   ]
  },
  {
   "cell_type": "code",
   "execution_count": 59,
   "id": "293d6a3a-4a31-410f-bcb7-f94c3d972766",
   "metadata": {},
   "outputs": [],
   "source": [
    "chain1 = prompt | ollama"
   ]
  },
  {
   "cell_type": "code",
   "execution_count": 60,
   "id": "ce0a86b7-731d-4b53-99c1-411b6dcb2e4d",
   "metadata": {},
   "outputs": [
    {
     "name": "stdout",
     "output_type": "stream",
     "text": [
      "Great! To generate a coherent and engaging storyline for the next season of \"Succession,\" I will need the following information:\n",
      "\n",
      "1. Character Information:\n",
      "\t* Detailed backgrounds, personalities, and development arcs of main and supporting characters\n",
      "\t* Relationships and dynamics between characters, including alliances, rivalries, and family ties\n",
      "\t* Any significant changes in characters over the past seasons\n",
      "2. Plot and Narrative Structure:\n",
      "\t* Summary of key events from each season\n",
      "\t* Major themes explored in the series\n",
      "\t* Style of storytelling (e.g., use of irony, satire, manipulation)\n",
      "3. Setting and Locations:\n",
      "\t* Primary settings where the series takes place\n",
      "\t* Any iconic locations specific to major plot events\n",
      "4. Motifs and Symbols:\n",
      "\t* Recurring motifs or symbols used throughout the series and their significance\n",
      "5. Actor Information (if relevant):\n",
      "\t* How the real-life characteristics of the actors playing key roles might influence future story arcs\n",
      "6. Audience and Critical Reception:\n",
      "\t* Insights into how audiences and critics have responded to various plot twists, character developments, and thematic explorations\n",
      "\n",
      "To organize this information, I suggest creating a comprehensive document with the following sections:\n",
      "\n",
      "1. Character Information\n",
      "\t* Detailed profiles of each main and supporting character, including their background, personality, and development arc throughout the series.\n",
      "\t* A diagram or chart illustrating the relationships between characters, including alliances, rivalries, and family ties.\n",
      "\t* A summary of any significant changes in characters over the past seasons.\n",
      "2. Plot and Narrative Structure\n",
      "\t* A brief summary of each season's key events.\n",
      "\t* An analysis of the major themes explored in the series, including any recurring motifs or symbols.\n",
      "\t* Information on the show's unique storytelling style, such as its use of irony, satire, and manipulation.\n",
      "3. Setting and Locations\n",
      "\t* A detailed description of the primary settings where the series takes place.\n",
      "\t* An inventory of any iconic locations specific to major plot events.\n",
      "4. Motifs and Symbols\n",
      "\t* A list of recurring motifs or symbols used throughout the series, along with their significance and how they contribute to the overall themes of the show.\n",
      "5. Actor Information (if relevant)\n",
      "\t* An analysis of how the real-life characteristics of the actors playing key roles might influence future story arcs.\n",
      "6. Audience and Critical Reception\n",
      "\t* Insights into how audiences and critics have responded to various plot twists, character developments, and thematic explorations.\n",
      "\n",
      "Additional data that could enhance the storyline generation process includes:\n",
      "\n",
      "1. Fan feedback and opinions on social media or online forums.\n",
      "2. Critical analyses of the show's narrative structure and themes from academic or critical perspectives.\n",
      "3. Industry trends and changes in the entertainment industry that could influence the show's creative direction.\n",
      "\n",
      "By organizing this information into a comprehensive document, you will have a solid foundation for generating a new, engaging, and fitting storyline for \"Succession.\"\n"
     ]
    }
   ],
   "source": [
    "resp=chain1.invoke({'input':'Succession'})\n",
    "print(resp)"
   ]
  },
  {
   "cell_type": "markdown",
   "id": "6c5ce077-49fe-42d2-acd6-bfa75c7a6d37",
   "metadata": {},
   "source": [
    "## Now, we know what the LLM needs. Let's go out and get it."
   ]
  },
  {
   "cell_type": "code",
   "execution_count": null,
   "id": "10b41080-b626-4263-9378-704b1dfa906f",
   "metadata": {},
   "outputs": [],
   "source": []
  }
 ],
 "metadata": {
  "citation-manager": {
   "items": {}
  },
  "kernelspec": {
   "display_name": "Python 3.11 (COMM4190)",
   "language": "python",
   "name": "comm4190"
  },
  "language_info": {
   "codemirror_mode": {
    "name": "ipython",
    "version": 3
   },
   "file_extension": ".py",
   "mimetype": "text/x-python",
   "name": "python",
   "nbconvert_exporter": "python",
   "pygments_lexer": "ipython3",
   "version": "3.11.7"
  }
 },
 "nbformat": 4,
 "nbformat_minor": 5
}
